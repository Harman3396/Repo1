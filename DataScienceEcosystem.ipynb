{
 "cells": [
  {
   "cell_type": "markdown",
   "id": "a44ced0d-2468-4df4-9b00-cf655c4c199e",
   "metadata": {},
   "source": [
    "# Data Science Tools and Ecosystem\n",
    "\n",
    "In this notebook, Data Science Tools and Ecosystem are summarized."
   ]
  },
  {
   "cell_type": "markdown",
   "id": "97df37bb-4c40-4b02-b04a-d92727b908fb",
   "metadata": {},
   "source": [
    "**Objectives:**\n",
    "\n",
    "* List popular languages used in Data Science\n",
    "* List popular libraries used in Data Science\n",
    "* List different development environment open source tools used in data science\n",
    "* Perform Arithmetic operations"
   ]
  },
  {
   "cell_type": "markdown",
   "id": "ac88e77d-f332-4ada-b2e4-efafc1625866",
   "metadata": {},
   "source": [
    "Some of the popular languages that Data Scientists use are:\n",
    "\n",
    "1. Python\n",
    "2. Ruby\n",
    "3. C/C++\n",
    "4. Java"
   ]
  },
  {
   "cell_type": "markdown",
   "id": "6cac7c13-1bd4-4674-810f-488abb360493",
   "metadata": {
    "tags": []
   },
   "source": [
    "Some of the commonly used libraries used by Data Scientists include:\n",
    "\n",
    "1. Seaborn\n",
    "2. NumPy\n",
    "3. Pandas\n",
    "4. Matplotlib"
   ]
  },
  {
   "cell_type": "markdown",
   "id": "0fe70690-8360-45cb-bcfc-cb9ad63e968c",
   "metadata": {},
   "source": [
    "|Data Science Tools |\n",
    "|-------------------|\n",
    "|R Studio |\n",
    "|Jupyter Notebook|\n",
    "|Spyder|"
   ]
  },
  {
   "cell_type": "markdown",
   "id": "91380deb-4c25-48ad-a7d0-6bd7c10692b6",
   "metadata": {},
   "source": [
    "### Below are a few examples of evaluating arithmetic expressions in Python"
   ]
  },
  {
   "cell_type": "code",
   "execution_count": 3,
   "id": "4a981acf-6aa6-422b-9421-6bfdf5127c36",
   "metadata": {
    "tags": []
   },
   "outputs": [
    {
     "data": {
      "text/plain": [
       "387"
      ]
     },
     "execution_count": 3,
     "metadata": {},
     "output_type": "execute_result"
    }
   ],
   "source": [
    "# This a simple arithmetic expression to mutiply then add integers\n",
    "(83*4)+55"
   ]
  },
  {
   "cell_type": "code",
   "execution_count": 4,
   "id": "6c80ac5d-5bee-425e-a0ed-fd8a50f9bf8e",
   "metadata": {
    "tags": []
   },
   "outputs": [
    {
     "data": {
      "text/plain": [
       "3.3333333333333335"
      ]
     },
     "execution_count": 4,
     "metadata": {},
     "output_type": "execute_result"
    }
   ],
   "source": [
    "# This will convert 200 minutes to hours by diving by 60\n",
    "200/60"
   ]
  },
  {
   "cell_type": "markdown",
   "id": "1ba4f1af-3d83-4f05-b84d-6fd2a81512f1",
   "metadata": {},
   "source": [
    "## Author\n",
    "\n",
    "Harmanpreet Singh"
   ]
  },
  {
   "cell_type": "code",
   "execution_count": null,
   "id": "0047d7d9-2b3a-492e-a14c-ffb98e8a765d",
   "metadata": {},
   "outputs": [],
   "source": []
  }
 ],
 "metadata": {
  "kernelspec": {
   "display_name": "Python",
   "language": "python",
   "name": "conda-env-python-py"
  },
  "language_info": {
   "codemirror_mode": {
    "name": "ipython",
    "version": 3
   },
   "file_extension": ".py",
   "mimetype": "text/x-python",
   "name": "python",
   "nbconvert_exporter": "python",
   "pygments_lexer": "ipython3",
   "version": "3.7.12"
  },
  "toc-autonumbering": false
 },
 "nbformat": 4,
 "nbformat_minor": 5
}
